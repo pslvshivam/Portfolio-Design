{
  "nbformat": 4,
  "nbformat_minor": 0,
  "metadata": {
    "colab": {
      "name": "Portfolio.ipynb",
      "provenance": [],
      "collapsed_sections": [],
      "include_colab_link": true
    },
    "kernelspec": {
      "name": "python3",
      "display_name": "Python 3"
    },
    "language_info": {
      "name": "python"
    }
  },
  "cells": [
    {
      "cell_type": "markdown",
      "metadata": {
        "id": "view-in-github",
        "colab_type": "text"
      },
      "source": [
        "<a href=\"https://colab.research.google.com/github/pslvshivam/Portfolio-Design/blob/main/Portfolio.ipynb\" target=\"_parent\"><img src=\"https://colab.research.google.com/assets/colab-badge.svg\" alt=\"Open In Colab\"/></a>"
      ]
    },
    {
      "cell_type": "code",
      "metadata": {
        "id": "ZGdCPITYPjdQ"
      },
      "source": [
        "import numpy as np\n",
        "import matplotlib.pyplot as plt\n",
        "import pandas as pd"
      ],
      "execution_count": null,
      "outputs": []
    },
    {
      "cell_type": "code",
      "metadata": {
        "id": "fYz_e8-YP5_3"
      },
      "source": [
        "!pip install -U -q PyDrive\n",
        "from pydrive.auth import GoogleAuth\n",
        "from pydrive.drive import GoogleDrive\n",
        "from google.colab import auth\n",
        "from oauth2client.client import GoogleCredentials\n",
        "# Authenticate and create the PyDrive client.\n",
        "auth.authenticate_user()\n",
        "gauth = GoogleAuth()\n",
        "gauth.credentials = GoogleCredentials.get_application_default()\n",
        "drive = GoogleDrive(gauth)"
      ],
      "execution_count": null,
      "outputs": []
    },
    {
      "cell_type": "code",
      "metadata": {
        "colab": {
          "base_uri": "https://localhost:8080/"
        },
        "id": "7JZ1bhJbR945",
        "outputId": "1410a99c-b90f-4e92-e1b4-1485e9391731"
      },
      "source": [
        "from google.colab import drive\n",
        "drive.mount('/content/drive')"
      ],
      "execution_count": null,
      "outputs": [
        {
          "output_type": "stream",
          "text": [
            "Mounted at /content/drive\n"
          ],
          "name": "stdout"
        }
      ]
    },
    {
      "cell_type": "code",
      "metadata": {
        "id": "6O-LuCZ-QaUk"
      },
      "source": [
        "\n",
        "\n",
        "dataset_train=pd.read_csv('/content/drive/My Drive/BHARTIARTL.BO.csv')\n",
        "dataset_train.drop(89,axis=0,inplace=True)\n",
        "training_set = dataset_train.iloc[:, 1:2].values"
      ],
      "execution_count": null,
      "outputs": []
    },
    {
      "cell_type": "code",
      "metadata": {
        "colab": {
          "base_uri": "https://localhost:8080/"
        },
        "id": "GAsQEUVrD8Vg",
        "outputId": "719fb6be-a24d-4bad-8615-eca5d87aacb3"
      },
      "source": [
        "dataset_train.shape"
      ],
      "execution_count": null,
      "outputs": [
        {
          "output_type": "execute_result",
          "data": {
            "text/plain": [
              "(250, 7)"
            ]
          },
          "metadata": {
            "tags": []
          },
          "execution_count": 8
        }
      ]
    },
    {
      "cell_type": "code",
      "metadata": {
        "colab": {
          "base_uri": "https://localhost:8080/",
          "height": 203
        },
        "id": "G4cJPnyNNQgg",
        "outputId": "bb28042a-5f7f-4f19-b327-46e5b65c0c69"
      },
      "source": [
        "dataset_train.head()"
      ],
      "execution_count": null,
      "outputs": [
        {
          "output_type": "execute_result",
          "data": {
            "text/html": [
              "<div>\n",
              "<style scoped>\n",
              "    .dataframe tbody tr th:only-of-type {\n",
              "        vertical-align: middle;\n",
              "    }\n",
              "\n",
              "    .dataframe tbody tr th {\n",
              "        vertical-align: top;\n",
              "    }\n",
              "\n",
              "    .dataframe thead th {\n",
              "        text-align: right;\n",
              "    }\n",
              "</style>\n",
              "<table border=\"1\" class=\"dataframe\">\n",
              "  <thead>\n",
              "    <tr style=\"text-align: right;\">\n",
              "      <th></th>\n",
              "      <th>Date</th>\n",
              "      <th>Open</th>\n",
              "      <th>High</th>\n",
              "      <th>Low</th>\n",
              "      <th>Close</th>\n",
              "      <th>Adj Close</th>\n",
              "      <th>Volume</th>\n",
              "    </tr>\n",
              "  </thead>\n",
              "  <tbody>\n",
              "    <tr>\n",
              "      <th>0</th>\n",
              "      <td>2020-07-13</td>\n",
              "      <td>575.000000</td>\n",
              "      <td>589.099976</td>\n",
              "      <td>570.000000</td>\n",
              "      <td>586.750000</td>\n",
              "      <td>584.650146</td>\n",
              "      <td>502298.0</td>\n",
              "    </tr>\n",
              "    <tr>\n",
              "      <th>1</th>\n",
              "      <td>2020-07-14</td>\n",
              "      <td>586.000000</td>\n",
              "      <td>596.599976</td>\n",
              "      <td>578.700012</td>\n",
              "      <td>589.099976</td>\n",
              "      <td>586.991699</td>\n",
              "      <td>1110186.0</td>\n",
              "    </tr>\n",
              "    <tr>\n",
              "      <th>2</th>\n",
              "      <td>2020-07-15</td>\n",
              "      <td>589.799988</td>\n",
              "      <td>589.799988</td>\n",
              "      <td>559.700012</td>\n",
              "      <td>564.150024</td>\n",
              "      <td>562.131042</td>\n",
              "      <td>652407.0</td>\n",
              "    </tr>\n",
              "    <tr>\n",
              "      <th>3</th>\n",
              "      <td>2020-07-16</td>\n",
              "      <td>565.000000</td>\n",
              "      <td>567.349976</td>\n",
              "      <td>553.500000</td>\n",
              "      <td>562.599976</td>\n",
              "      <td>560.586548</td>\n",
              "      <td>630567.0</td>\n",
              "    </tr>\n",
              "    <tr>\n",
              "      <th>4</th>\n",
              "      <td>2020-07-17</td>\n",
              "      <td>563.950012</td>\n",
              "      <td>573.799988</td>\n",
              "      <td>562.049988</td>\n",
              "      <td>567.349976</td>\n",
              "      <td>565.319580</td>\n",
              "      <td>465565.0</td>\n",
              "    </tr>\n",
              "  </tbody>\n",
              "</table>\n",
              "</div>"
            ],
            "text/plain": [
              "         Date        Open        High  ...       Close   Adj Close     Volume\n",
              "0  2020-07-13  575.000000  589.099976  ...  586.750000  584.650146   502298.0\n",
              "1  2020-07-14  586.000000  596.599976  ...  589.099976  586.991699  1110186.0\n",
              "2  2020-07-15  589.799988  589.799988  ...  564.150024  562.131042   652407.0\n",
              "3  2020-07-16  565.000000  567.349976  ...  562.599976  560.586548   630567.0\n",
              "4  2020-07-17  563.950012  573.799988  ...  567.349976  565.319580   465565.0\n",
              "\n",
              "[5 rows x 7 columns]"
            ]
          },
          "metadata": {
            "tags": []
          },
          "execution_count": 9
        }
      ]
    },
    {
      "cell_type": "code",
      "metadata": {
        "id": "u13PQxe1Sox-"
      },
      "source": [
        "from sklearn.preprocessing import MinMaxScaler\n",
        "sc = MinMaxScaler(feature_range = (0, 1))\n",
        "training_set_scaled = sc.fit_transform(training_set)"
      ],
      "execution_count": null,
      "outputs": []
    },
    {
      "cell_type": "code",
      "metadata": {
        "id": "rfFuB4FXSu9d"
      },
      "source": [
        "X_train = []\n",
        "y_train = []\n",
        "for i in range(60, 250):\n",
        "    X_train.append(training_set_scaled[i-60:i, 0])\n",
        "    y_train.append(training_set_scaled[i, 0])\n",
        "X_train, y_train = np.array(X_train), np.array(y_train)\n",
        "\n",
        "X_train = np.reshape(X_train, (X_train.shape[0], X_train.shape[1], 1))"
      ],
      "execution_count": null,
      "outputs": []
    },
    {
      "cell_type": "markdown",
      "metadata": {
        "id": "Wvfk4J7wF9fj"
      },
      "source": [
        "X_train.shape"
      ]
    },
    {
      "cell_type": "code",
      "metadata": {
        "id": "yrlRcU8RTAtv"
      },
      "source": [
        "from keras.models import Sequential\n",
        "from keras.layers import Dense\n",
        "from keras.layers import LSTM\n",
        "from keras.layers import Dropout"
      ],
      "execution_count": null,
      "outputs": []
    },
    {
      "cell_type": "code",
      "metadata": {
        "colab": {
          "base_uri": "https://localhost:8080/"
        },
        "id": "lfqXKLGZTFij",
        "outputId": "62f4bb97-94eb-47dc-f86b-3f0ac12d51a8"
      },
      "source": [
        "regressor = Sequential()\n",
        "\n",
        "regressor.add(LSTM(units = 50, return_sequences = True, input_shape = (X_train.shape[1], 1)))\n",
        "regressor.add(Dropout(0.2))\n",
        "\n",
        "regressor.add(LSTM(units = 50, return_sequences = True))\n",
        "regressor.add(Dropout(0.2))\n",
        "\n",
        "regressor.add(LSTM(units = 50, return_sequences = True))\n",
        "regressor.add(Dropout(0.2))\n",
        "\n",
        "regressor.add(LSTM(units = 50))\n",
        "regressor.add(Dropout(0.2))\n",
        "\n",
        "regressor.add(Dense(units = 1))\n",
        "#from keras import optimizers\n",
        "\n",
        "#optimizer = optimizers.Adam(clipvalue=1.0)\n",
        "##regressor.compile(optimizer=optimizer, loss='mean_squared_error')\n",
        "\n",
        "\n",
        "regressor.compile(optimizer = 'adam', loss = 'mean_squared_error')\n",
        "\n",
        "regressor.fit(X_train, y_train, epochs = 100, batch_size = 32)"
      ],
      "execution_count": null,
      "outputs": [
        {
          "output_type": "stream",
          "text": [
            "Epoch 1/100\n",
            "6/6 [==============================] - 8s 111ms/step - loss: 0.2458\n",
            "Epoch 2/100\n",
            "6/6 [==============================] - 1s 111ms/step - loss: 0.0785\n",
            "Epoch 3/100\n",
            "6/6 [==============================] - 1s 110ms/step - loss: 0.0420\n",
            "Epoch 4/100\n",
            "6/6 [==============================] - 1s 110ms/step - loss: 0.0325\n",
            "Epoch 5/100\n",
            "6/6 [==============================] - 1s 112ms/step - loss: 0.0254\n",
            "Epoch 6/100\n",
            "6/6 [==============================] - 1s 112ms/step - loss: 0.0288\n",
            "Epoch 7/100\n",
            "6/6 [==============================] - 1s 109ms/step - loss: 0.0263\n",
            "Epoch 8/100\n",
            "6/6 [==============================] - 1s 112ms/step - loss: 0.0251\n",
            "Epoch 9/100\n",
            "6/6 [==============================] - 1s 113ms/step - loss: 0.0195\n",
            "Epoch 10/100\n",
            "6/6 [==============================] - 1s 110ms/step - loss: 0.0195\n",
            "Epoch 11/100\n",
            "6/6 [==============================] - 1s 115ms/step - loss: 0.0226\n",
            "Epoch 12/100\n",
            "6/6 [==============================] - 1s 112ms/step - loss: 0.0173\n",
            "Epoch 13/100\n",
            "6/6 [==============================] - 1s 111ms/step - loss: 0.0174\n",
            "Epoch 14/100\n",
            "6/6 [==============================] - 1s 112ms/step - loss: 0.0157\n",
            "Epoch 15/100\n",
            "6/6 [==============================] - 1s 111ms/step - loss: 0.0172\n",
            "Epoch 16/100\n",
            "6/6 [==============================] - 1s 109ms/step - loss: 0.0155\n",
            "Epoch 17/100\n",
            "6/6 [==============================] - 1s 114ms/step - loss: 0.0165\n",
            "Epoch 18/100\n",
            "6/6 [==============================] - 1s 113ms/step - loss: 0.0118\n",
            "Epoch 19/100\n",
            "6/6 [==============================] - 1s 111ms/step - loss: 0.0127\n",
            "Epoch 20/100\n",
            "6/6 [==============================] - 1s 112ms/step - loss: 0.0129\n",
            "Epoch 21/100\n",
            "6/6 [==============================] - 1s 114ms/step - loss: 0.0125\n",
            "Epoch 22/100\n",
            "6/6 [==============================] - 1s 112ms/step - loss: 0.0153\n",
            "Epoch 23/100\n",
            "6/6 [==============================] - 1s 115ms/step - loss: 0.0136\n",
            "Epoch 24/100\n",
            "6/6 [==============================] - 1s 111ms/step - loss: 0.0144\n",
            "Epoch 25/100\n",
            "6/6 [==============================] - 1s 111ms/step - loss: 0.0121\n",
            "Epoch 26/100\n",
            "6/6 [==============================] - 1s 114ms/step - loss: 0.0118\n",
            "Epoch 27/100\n",
            "6/6 [==============================] - 1s 112ms/step - loss: 0.0124\n",
            "Epoch 28/100\n",
            "6/6 [==============================] - 1s 111ms/step - loss: 0.0134\n",
            "Epoch 29/100\n",
            "6/6 [==============================] - 1s 113ms/step - loss: 0.0134\n",
            "Epoch 30/100\n",
            "6/6 [==============================] - 1s 112ms/step - loss: 0.0135\n",
            "Epoch 31/100\n",
            "6/6 [==============================] - 1s 112ms/step - loss: 0.0135\n",
            "Epoch 32/100\n",
            "6/6 [==============================] - 1s 116ms/step - loss: 0.0130\n",
            "Epoch 33/100\n",
            "6/6 [==============================] - 1s 112ms/step - loss: 0.0115\n",
            "Epoch 34/100\n",
            "6/6 [==============================] - 1s 112ms/step - loss: 0.0114\n",
            "Epoch 35/100\n",
            "6/6 [==============================] - 1s 115ms/step - loss: 0.0105\n",
            "Epoch 36/100\n",
            "6/6 [==============================] - 1s 112ms/step - loss: 0.0110\n",
            "Epoch 37/100\n",
            "6/6 [==============================] - 1s 111ms/step - loss: 0.0101\n",
            "Epoch 38/100\n",
            "6/6 [==============================] - 1s 113ms/step - loss: 0.0105\n",
            "Epoch 39/100\n",
            "6/6 [==============================] - 1s 112ms/step - loss: 0.0124\n",
            "Epoch 40/100\n",
            "6/6 [==============================] - 1s 111ms/step - loss: 0.0117\n",
            "Epoch 41/100\n",
            "6/6 [==============================] - 1s 114ms/step - loss: 0.0143\n",
            "Epoch 42/100\n",
            "6/6 [==============================] - 1s 111ms/step - loss: 0.0119\n",
            "Epoch 43/100\n",
            "6/6 [==============================] - 1s 109ms/step - loss: 0.0124\n",
            "Epoch 44/100\n",
            "6/6 [==============================] - 1s 112ms/step - loss: 0.0109\n",
            "Epoch 45/100\n",
            "6/6 [==============================] - 1s 113ms/step - loss: 0.0121\n",
            "Epoch 46/100\n",
            "6/6 [==============================] - 1s 112ms/step - loss: 0.0126\n",
            "Epoch 47/100\n",
            "6/6 [==============================] - 1s 112ms/step - loss: 0.0138\n",
            "Epoch 48/100\n",
            "6/6 [==============================] - 1s 113ms/step - loss: 0.0111\n",
            "Epoch 49/100\n",
            "6/6 [==============================] - 1s 111ms/step - loss: 0.0120\n",
            "Epoch 50/100\n",
            "6/6 [==============================] - 1s 112ms/step - loss: 0.0098\n",
            "Epoch 51/100\n",
            "6/6 [==============================] - 1s 113ms/step - loss: 0.0120\n",
            "Epoch 52/100\n",
            "6/6 [==============================] - 1s 111ms/step - loss: 0.0092\n",
            "Epoch 53/100\n",
            "6/6 [==============================] - 1s 112ms/step - loss: 0.0131\n",
            "Epoch 54/100\n",
            "6/6 [==============================] - 1s 111ms/step - loss: 0.0117\n",
            "Epoch 55/100\n",
            "6/6 [==============================] - 1s 112ms/step - loss: 0.0121\n",
            "Epoch 56/100\n",
            "6/6 [==============================] - 1s 114ms/step - loss: 0.0094\n",
            "Epoch 57/100\n",
            "6/6 [==============================] - 1s 112ms/step - loss: 0.0083\n",
            "Epoch 58/100\n",
            "6/6 [==============================] - 1s 110ms/step - loss: 0.0101\n",
            "Epoch 59/100\n",
            "6/6 [==============================] - 1s 117ms/step - loss: 0.0123\n",
            "Epoch 60/100\n",
            "6/6 [==============================] - 1s 111ms/step - loss: 0.0109\n",
            "Epoch 61/100\n",
            "6/6 [==============================] - 1s 111ms/step - loss: 0.0102\n",
            "Epoch 62/100\n",
            "6/6 [==============================] - 1s 112ms/step - loss: 0.0104\n",
            "Epoch 63/100\n",
            "6/6 [==============================] - 1s 116ms/step - loss: 0.0105\n",
            "Epoch 64/100\n",
            "6/6 [==============================] - 1s 112ms/step - loss: 0.0111\n",
            "Epoch 65/100\n",
            "6/6 [==============================] - 1s 111ms/step - loss: 0.0104\n",
            "Epoch 66/100\n",
            "6/6 [==============================] - 1s 113ms/step - loss: 0.0138\n",
            "Epoch 67/100\n",
            "6/6 [==============================] - 1s 110ms/step - loss: 0.0102\n",
            "Epoch 68/100\n",
            "6/6 [==============================] - 1s 113ms/step - loss: 0.0118\n",
            "Epoch 69/100\n",
            "6/6 [==============================] - 1s 113ms/step - loss: 0.0097\n",
            "Epoch 70/100\n",
            "6/6 [==============================] - 1s 111ms/step - loss: 0.0103\n",
            "Epoch 71/100\n",
            "6/6 [==============================] - 1s 111ms/step - loss: 0.0108\n",
            "Epoch 72/100\n",
            "6/6 [==============================] - 1s 112ms/step - loss: 0.0100\n",
            "Epoch 73/100\n",
            "6/6 [==============================] - 1s 116ms/step - loss: 0.0117\n",
            "Epoch 74/100\n",
            "6/6 [==============================] - 1s 118ms/step - loss: 0.0086\n",
            "Epoch 75/100\n",
            "6/6 [==============================] - 1s 113ms/step - loss: 0.0102\n",
            "Epoch 76/100\n",
            "6/6 [==============================] - 1s 109ms/step - loss: 0.0093\n",
            "Epoch 77/100\n",
            "6/6 [==============================] - 1s 111ms/step - loss: 0.0092\n",
            "Epoch 78/100\n",
            "6/6 [==============================] - 1s 113ms/step - loss: 0.0110\n",
            "Epoch 79/100\n",
            "6/6 [==============================] - 1s 110ms/step - loss: 0.0099\n",
            "Epoch 80/100\n",
            "6/6 [==============================] - 1s 113ms/step - loss: 0.0114\n",
            "Epoch 81/100\n",
            "6/6 [==============================] - 1s 113ms/step - loss: 0.0091\n",
            "Epoch 82/100\n",
            "6/6 [==============================] - 1s 112ms/step - loss: 0.0097\n",
            "Epoch 83/100\n",
            "6/6 [==============================] - 1s 111ms/step - loss: 0.0107\n",
            "Epoch 84/100\n",
            "6/6 [==============================] - 1s 115ms/step - loss: 0.0101\n",
            "Epoch 85/100\n",
            "6/6 [==============================] - 1s 111ms/step - loss: 0.0080\n",
            "Epoch 86/100\n",
            "6/6 [==============================] - 1s 114ms/step - loss: 0.0106\n",
            "Epoch 87/100\n",
            "6/6 [==============================] - 1s 112ms/step - loss: 0.0103\n",
            "Epoch 88/100\n",
            "6/6 [==============================] - 1s 112ms/step - loss: 0.0101\n",
            "Epoch 89/100\n",
            "6/6 [==============================] - 1s 110ms/step - loss: 0.0126\n",
            "Epoch 90/100\n",
            "6/6 [==============================] - 1s 121ms/step - loss: 0.0120\n",
            "Epoch 91/100\n",
            "6/6 [==============================] - 1s 114ms/step - loss: 0.0086\n",
            "Epoch 92/100\n",
            "6/6 [==============================] - 1s 112ms/step - loss: 0.0094\n",
            "Epoch 93/100\n",
            "6/6 [==============================] - 1s 113ms/step - loss: 0.0093\n",
            "Epoch 94/100\n",
            "6/6 [==============================] - 1s 115ms/step - loss: 0.0092\n",
            "Epoch 95/100\n",
            "6/6 [==============================] - 1s 113ms/step - loss: 0.0091\n",
            "Epoch 96/100\n",
            "6/6 [==============================] - 1s 112ms/step - loss: 0.0076\n",
            "Epoch 97/100\n",
            "6/6 [==============================] - 1s 112ms/step - loss: 0.0098\n",
            "Epoch 98/100\n",
            "6/6 [==============================] - 1s 111ms/step - loss: 0.0079\n",
            "Epoch 99/100\n",
            "6/6 [==============================] - 1s 114ms/step - loss: 0.0083\n",
            "Epoch 100/100\n",
            "6/6 [==============================] - 1s 114ms/step - loss: 0.0097\n"
          ],
          "name": "stdout"
        },
        {
          "output_type": "execute_result",
          "data": {
            "text/plain": [
              "<keras.callbacks.History at 0x7ffb1f7f4290>"
            ]
          },
          "metadata": {
            "tags": []
          },
          "execution_count": 59
        }
      ]
    },
    {
      "cell_type": "code",
      "metadata": {
        "colab": {
          "base_uri": "https://localhost:8080/"
        },
        "id": "NNt0VnFtZNhw",
        "outputId": "b967852b-c121-40bb-bd35-d435743b8d41"
      },
      "source": [
        "dataset_total = pd.concat((dataset_train['Open'], dataset_train['Open']), axis = 0)\n",
        "inputs = dataset_train.iloc[len(dataset_total) - len(dataset_train) - 60:,1:2].values\n",
        "inputs.shape"
      ],
      "execution_count": null,
      "outputs": [
        {
          "output_type": "execute_result",
          "data": {
            "text/plain": [
              "(60, 1)"
            ]
          },
          "metadata": {
            "tags": []
          },
          "execution_count": 60
        }
      ]
    },
    {
      "cell_type": "code",
      "metadata": {
        "id": "cQQPsBxftL30"
      },
      "source": [
        "#inputs = inputs[::-1]"
      ],
      "execution_count": null,
      "outputs": []
    },
    {
      "cell_type": "code",
      "metadata": {
        "id": "MYZV1AcXmUg6"
      },
      "source": [
        "output = []\n",
        "for i in range(100):\n",
        "  inputs = inputs.reshape(-1,1)\n",
        "  inputs = sc.transform(inputs)\n",
        "  X_test = []\n",
        "  X_test.append(inputs[0:60, 0])\n",
        "  X_test = np.array(X_test)\n",
        "  X_test = np.reshape(X_test, (X_test.shape[0], X_test.shape[1], 1))\n",
        "  predicted_stock_price = regressor.predict(X_test)\n",
        "  predicted_stock_price = sc.inverse_transform(predicted_stock_price)\n",
        "  #predicted_stock_price.reshape(1,1)\n",
        "  output.append(predicted_stock_price[0][0])\n",
        "  inputs=sc.inverse_transform(inputs)\n",
        "  inputs = np.delete(inputs, (0), axis=0)  \n",
        "  inputs=np.append(inputs, np.array([[predicted_stock_price[0][0]]]), axis=0)\n",
        "\n",
        "\n",
        "\n",
        "  \n"
      ],
      "execution_count": null,
      "outputs": []
    },
    {
      "cell_type": "code",
      "metadata": {
        "colab": {
          "base_uri": "https://localhost:8080/"
        },
        "id": "N1MpMeAWqoSO",
        "outputId": "d9741939-b1ba-4399-c92e-01dbd5349d5d"
      },
      "source": [
        "val"
      ],
      "execution_count": null,
      "outputs": [
        {
          "output_type": "execute_result",
          "data": {
            "text/plain": [
              "[-8.7567138671875,\n",
              " -4.7432861328125,\n",
              " -6.734130859375,\n",
              " -14.61761474609375,\n",
              " -5649.617614746094]"
            ]
          },
          "metadata": {
            "tags": []
          },
          "execution_count": 98
        }
      ]
    },
    {
      "cell_type": "code",
      "metadata": {
        "id": "VKS1D4obbH3T",
        "colab": {
          "base_uri": "https://localhost:8080/"
        },
        "outputId": "de0564a8-675e-423a-97c3-abeaea9e053c"
      },
      "source": [
        "adani"
      ],
      "execution_count": null,
      "outputs": [
        {
          "output_type": "execute_result",
          "data": {
            "text/plain": [
              "[1424.2433,\n",
              " 1419.6614,\n",
              " 1415.3517,\n",
              " 1411.5669,\n",
              " 1408.4945,\n",
              " 1406.2528,\n",
              " 1404.9008,\n",
              " 1404.4127,\n",
              " 1404.7206,\n",
              " 1405.7554,\n",
              " 1407.4072,\n",
              " 1409.5812,\n",
              " 1412.1597,\n",
              " 1415.0375,\n",
              " 1418.128,\n",
              " 1421.3256,\n",
              " 1424.5887,\n",
              " 1427.8843,\n",
              " 1431.1964,\n",
              " 1434.427,\n",
              " 1437.521,\n",
              " 1440.5026,\n",
              " 1443.4181,\n",
              " 1446.1599,\n",
              " 1448.7963,\n",
              " 1451.3175,\n",
              " 1453.7391,\n",
              " 1456.0347,\n",
              " 1458.2747,\n",
              " 1460.4347,\n",
              " 1462.548,\n",
              " 1464.6013,\n",
              " 1466.5654,\n",
              " 1468.4404,\n",
              " 1470.2261,\n",
              " 1471.946,\n",
              " 1473.5825,\n",
              " 1475.1458,\n",
              " 1476.6425,\n",
              " 1478.0803,\n",
              " 1479.443,\n",
              " 1480.758,\n",
              " 1482.0411,\n",
              " 1483.2479,\n",
              " 1484.4006,\n",
              " 1485.5096,\n",
              " 1486.5707,\n",
              " 1487.5834,\n",
              " 1488.5623,\n",
              " 1489.4979,\n",
              " 1490.3905,\n",
              " 1491.2803,\n",
              " 1492.1218,\n",
              " 1492.9188,\n",
              " 1493.6772,\n",
              " 1494.4076,\n",
              " 1495.1108,\n",
              " 1495.7819,\n",
              " 1496.4286,\n",
              " 1497.0396,\n",
              " 1497.6368,\n",
              " 1498.1261,\n",
              " 1498.6,\n",
              " 1499.0576,\n",
              " 1499.4989,\n",
              " 1499.9243,\n",
              " 1500.3337,\n",
              " 1500.7266,\n",
              " 1501.1045,\n",
              " 1501.4663,\n",
              " 1501.8129,\n",
              " 1502.1447,\n",
              " 1502.4615,\n",
              " 1502.7645,\n",
              " 1503.0536,\n",
              " 1503.3297,\n",
              " 1503.5931,\n",
              " 1503.8444,\n",
              " 1504.084,\n",
              " 1504.3126,\n",
              " 1504.5304,\n",
              " 1504.7385,\n",
              " 1504.9366,\n",
              " 1505.1257,\n",
              " 1505.3059,\n",
              " 1505.4775,\n",
              " 1505.6417,\n",
              " 1505.7982,\n",
              " 1505.9475,\n",
              " 1506.0897,\n",
              " 1506.2255,\n",
              " 1506.3549,\n",
              " 1506.4783,\n",
              " 1506.5961,\n",
              " 1506.7085,\n",
              " 1506.8153,\n",
              " 1506.9175,\n",
              " 1507.0149,\n",
              " 1507.1075,\n",
              " 1507.1962]"
            ]
          },
          "metadata": {
            "tags": []
          },
          "execution_count": 91
        }
      ]
    },
    {
      "cell_type": "code",
      "metadata": {
        "id": "zSCNdVUjfq-F",
        "colab": {
          "base_uri": "https://localhost:8080/"
        },
        "outputId": "baedb469-5df4-4403-ca4c-3eea33aad015"
      },
      "source": [
        "axis"
      ],
      "execution_count": null,
      "outputs": [
        {
          "output_type": "execute_result",
          "data": {
            "text/plain": [
              "[754.2567,\n",
              " 755.1296,\n",
              " 755.8988,\n",
              " 756.6884,\n",
              " 757.3039,\n",
              " 757.65106,\n",
              " 758.04443,\n",
              " 758.37103,\n",
              " 758.73816,\n",
              " 759.2092,\n",
              " 759.71783,\n",
              " 760.2726,\n",
              " 760.82056,\n",
              " 761.33954,\n",
              " 761.871,\n",
              " 762.41425,\n",
              " 763.0828,\n",
              " 763.7315,\n",
              " 764.39795,\n",
              " 765.0265,\n",
              " 765.4155,\n",
              " 765.87756,\n",
              " 766.25415,\n",
              " 766.58575,\n",
              " 766.71027,\n",
              " 766.72864,\n",
              " 766.79333,\n",
              " 766.85535,\n",
              " 766.8122,\n",
              " 766.8795,\n",
              " 766.84094,\n",
              " 766.87805,\n",
              " 766.93005,\n",
              " 766.9337,\n",
              " 767.00214,\n",
              " 767.02356,\n",
              " 767.0925,\n",
              " 767.208,\n",
              " 767.2753,\n",
              " 767.4119,\n",
              " 767.5325,\n",
              " 767.5585,\n",
              " 767.6362,\n",
              " 767.7085,\n",
              " 767.88226,\n",
              " 767.90015,\n",
              " 767.91113,\n",
              " 767.9604,\n",
              " 767.9743,\n",
              " 767.7916,\n",
              " 767.6637,\n",
              " 767.6157,\n",
              " 767.5912,\n",
              " 767.5834,\n",
              " 767.5095,\n",
              " 767.45154,\n",
              " 767.41626,\n",
              " 767.3682,\n",
              " 767.3946,\n",
              " 767.4235,\n",
              " 767.4161,\n",
              " 767.4587,\n",
              " 767.50433,\n",
              " 767.55426,\n",
              " 767.60876,\n",
              " 767.66907,\n",
              " 767.7369,\n",
              " 767.8107,\n",
              " 767.89026,\n",
              " 767.9739,\n",
              " 768.06,\n",
              " 768.14734,\n",
              " 768.235,\n",
              " 768.32227,\n",
              " 768.4089,\n",
              " 768.4941,\n",
              " 768.5776,\n",
              " 768.65796,\n",
              " 768.7353,\n",
              " 768.8095,\n",
              " 768.88104,\n",
              " 768.9515,\n",
              " 769.02,\n",
              " 769.0873,\n",
              " 769.15314,\n",
              " 769.21875,\n",
              " 769.2846,\n",
              " 769.34924,\n",
              " 769.4121,\n",
              " 769.47345,\n",
              " 769.5318,\n",
              " 769.58734,\n",
              " 769.639,\n",
              " 769.686,\n",
              " 769.72864,\n",
              " 769.76605,\n",
              " 769.7982,\n",
              " 769.82477,\n",
              " 769.8452,\n",
              " 769.8598]"
            ]
          },
          "metadata": {
            "tags": []
          },
          "execution_count": 92
        }
      ]
    },
    {
      "cell_type": "code",
      "metadata": {
        "id": "6-QEhnJrftfI",
        "colab": {
          "base_uri": "https://localhost:8080/"
        },
        "outputId": "7b39d260-1fcb-41cb-90ce-a7be0a70928f"
      },
      "source": [
        "hul"
      ],
      "execution_count": null,
      "outputs": [
        {
          "output_type": "execute_result",
          "data": {
            "text/plain": [
              "[2446.2659,\n",
              " 2438.6365,\n",
              " 2431.182,\n",
              " 2423.994,\n",
              " 2416.908,\n",
              " 2409.9043,\n",
              " 2402.9602,\n",
              " 2396.0422,\n",
              " 2389.0803,\n",
              " 2382.0156,\n",
              " 2374.816,\n",
              " 2367.449,\n",
              " 2359.7627,\n",
              " 2351.7637,\n",
              " 2343.5073,\n",
              " 2334.907,\n",
              " 2325.968,\n",
              " 2316.7747,\n",
              " 2307.528,\n",
              " 2298.4307,\n",
              " 2289.175,\n",
              " 2280.1572,\n",
              " 2271.904,\n",
              " 2264.3994,\n",
              " 2257.993,\n",
              " 2252.6787,\n",
              " 2248.7842,\n",
              " 2246.4841,\n",
              " 2245.9478,\n",
              " 2247.3928,\n",
              " 2250.7566,\n",
              " 2255.8066,\n",
              " 2262.705,\n",
              " 2271.4038,\n",
              " 2281.9778,\n",
              " 2294.483,\n",
              " 2308.7239,\n",
              " 2324.1553,\n",
              " 2340.876,\n",
              " 2358.541,\n",
              " 2377.2544,\n",
              " 2396.3826,\n",
              " 2415.3894,\n",
              " 2433.9885,\n",
              " 2451.6558,\n",
              " 2467.8313,\n",
              " 2482.1484,\n",
              " 2494.0808,\n",
              " 2502.989,\n",
              " 2508.5261,\n",
              " 2510.4797,\n",
              " 2509.1987,\n",
              " 2505.3005,\n",
              " 2499.1494,\n",
              " 2491.3645,\n",
              " 2482.6243,\n",
              " 2473.275,\n",
              " 2463.628,\n",
              " 2454.0667,\n",
              " 2444.6826,\n",
              " 2435.6267,\n",
              " 2426.8699,\n",
              " 2418.3838,\n",
              " 2410.1106,\n",
              " 2401.9695,\n",
              " 2393.8635,\n",
              " 2385.6826,\n",
              " 2377.3074,\n",
              " 2368.6086,\n",
              " 2359.448,\n",
              " 2349.6816,\n",
              " 2339.162,\n",
              " 2327.746,\n",
              " 2315.3054,\n",
              " 2301.7422,\n",
              " 2287.0083,\n",
              " 2271.126,\n",
              " 2254.2002,\n",
              " 2236.4248,\n",
              " 2218.0747,\n",
              " 2199.4885,\n",
              " 2181.0452,\n",
              " 2163.1333,\n",
              " 2146.1274,\n",
              " 2130.3682,\n",
              " 2116.1482,\n",
              " 2103.704,\n",
              " 2093.2078,\n",
              " 2084.7642,\n",
              " 2078.4097,\n",
              " 2074.1133,\n",
              " 2071.7798,\n",
              " 2071.2576,\n",
              " 2072.3423,\n",
              " 2074.7893,\n",
              " 2078.3284,\n",
              " 2082.678,\n",
              " 2087.5686,\n",
              " 2092.7625,\n",
              " 2098.0557]"
            ]
          },
          "metadata": {
            "tags": []
          },
          "execution_count": 90
        }
      ]
    },
    {
      "cell_type": "code",
      "metadata": {
        "id": "-LJoWaeofv0Q",
        "colab": {
          "base_uri": "https://localhost:8080/"
        },
        "outputId": "4e0d488c-26e6-487c-c28e-455877f2fb86"
      },
      "source": [
        "airtel"
      ],
      "execution_count": null,
      "outputs": [
        {
          "output_type": "execute_result",
          "data": {
            "text/plain": [
              "[525.3824,\n",
              " 525.22546,\n",
              " 525.2795,\n",
              " 525.4147,\n",
              " 525.54846,\n",
              " 525.64026,\n",
              " 525.6791,\n",
              " 525.6758,\n",
              " 525.64905,\n",
              " 525.61707,\n",
              " 525.5894,\n",
              " 525.57776,\n",
              " 525.59393,\n",
              " 525.63165,\n",
              " 525.6923,\n",
              " 525.773,\n",
              " 525.87463,\n",
              " 525.9912,\n",
              " 526.12195,\n",
              " 526.2643,\n",
              " 526.41815,\n",
              " 526.57825,\n",
              " 526.7458,\n",
              " 526.91907,\n",
              " 527.0979,\n",
              " 527.2836,\n",
              " 527.4729,\n",
              " 527.66504,\n",
              " 527.85834,\n",
              " 528.05164,\n",
              " 528.24603,\n",
              " 528.44147,\n",
              " 528.6337,\n",
              " 528.8239,\n",
              " 529.0114,\n",
              " 529.19507,\n",
              " 529.37524,\n",
              " 529.55206,\n",
              " 529.7222,\n",
              " 529.8874,\n",
              " 530.04504,\n",
              " 530.1968,\n",
              " 530.34125,\n",
              " 530.4781,\n",
              " 530.6064,\n",
              " 530.7276,\n",
              " 530.8437,\n",
              " 530.9501,\n",
              " 531.04803,\n",
              " 531.1374,\n",
              " 531.22,\n",
              " 531.2937,\n",
              " 531.35913,\n",
              " 531.4168,\n",
              " 531.46686,\n",
              " 531.50934,\n",
              " 531.5443,\n",
              " 531.5724,\n",
              " 531.59436,\n",
              " 531.609,\n",
              " 531.6193,\n",
              " 531.62115,\n",
              " 531.6173,\n",
              " 531.6081,\n",
              " 531.5939,\n",
              " 531.5749,\n",
              " 531.55145,\n",
              " 531.52386,\n",
              " 531.4925,\n",
              " 531.45764,\n",
              " 531.41956,\n",
              " 531.3787,\n",
              " 531.3353,\n",
              " 531.2898,\n",
              " 531.24243,\n",
              " 531.1935,\n",
              " 531.1433,\n",
              " 531.0922,\n",
              " 531.0404,\n",
              " 530.9883,\n",
              " 530.936,\n",
              " 530.8838,\n",
              " 530.83185,\n",
              " 530.7806,\n",
              " 530.73004,\n",
              " 530.68036,\n",
              " 530.6319,\n",
              " 530.5847,\n",
              " 530.53894,\n",
              " 530.49475,\n",
              " 530.4522,\n",
              " 530.41156,\n",
              " 530.3728,\n",
              " 530.3359,\n",
              " 530.3011,\n",
              " 530.2684,\n",
              " 530.2378,\n",
              " 530.20935,\n",
              " 530.1831,\n",
              " 530.159]"
            ]
          },
          "metadata": {
            "tags": []
          },
          "execution_count": 93
        }
      ]
    },
    {
      "cell_type": "code",
      "metadata": {
        "id": "ghslGLUffx4x",
        "colab": {
          "base_uri": "https://localhost:8080/"
        },
        "outputId": "87dfb5be-4c17-4acb-cec2-f7203d80a201"
      },
      "source": [
        "bajaj"
      ],
      "execution_count": null,
      "outputs": [
        {
          "output_type": "execute_result",
          "data": {
            "text/plain": [
              "[525.3824,\n",
              " 525.22546,\n",
              " 525.2795,\n",
              " 525.4147,\n",
              " 525.54846,\n",
              " 525.64026,\n",
              " 525.6791,\n",
              " 525.6758,\n",
              " 525.64905,\n",
              " 525.61707,\n",
              " 525.5894,\n",
              " 525.57776,\n",
              " 525.59393,\n",
              " 525.63165,\n",
              " 525.6923,\n",
              " 525.773,\n",
              " 525.87463,\n",
              " 525.9912,\n",
              " 526.12195,\n",
              " 526.2643,\n",
              " 526.41815,\n",
              " 526.57825,\n",
              " 526.7458,\n",
              " 526.91907,\n",
              " 527.0979,\n",
              " 527.2836,\n",
              " 527.4729,\n",
              " 527.66504,\n",
              " 527.85834,\n",
              " 528.05164,\n",
              " 528.24603,\n",
              " 528.44147,\n",
              " 528.6337,\n",
              " 528.8239,\n",
              " 529.0114,\n",
              " 529.19507,\n",
              " 529.37524,\n",
              " 529.55206,\n",
              " 529.7222,\n",
              " 529.8874,\n",
              " 530.04504,\n",
              " 530.1968,\n",
              " 530.34125,\n",
              " 530.4781,\n",
              " 530.6064,\n",
              " 530.7276,\n",
              " 530.8437,\n",
              " 530.9501,\n",
              " 531.04803,\n",
              " 531.1374,\n",
              " 531.22,\n",
              " 531.2937,\n",
              " 531.35913,\n",
              " 531.4168,\n",
              " 531.46686,\n",
              " 531.50934,\n",
              " 531.5443,\n",
              " 531.5724,\n",
              " 531.59436,\n",
              " 531.609,\n",
              " 531.6193,\n",
              " 531.62115,\n",
              " 531.6173,\n",
              " 531.6081,\n",
              " 531.5939,\n",
              " 531.5749,\n",
              " 531.55145,\n",
              " 531.52386,\n",
              " 531.4925,\n",
              " 531.45764,\n",
              " 531.41956,\n",
              " 531.3787,\n",
              " 531.3353,\n",
              " 531.2898,\n",
              " 531.24243,\n",
              " 531.1935,\n",
              " 531.1433,\n",
              " 531.0922,\n",
              " 531.0404,\n",
              " 530.9883,\n",
              " 530.936,\n",
              " 530.8838,\n",
              " 530.83185,\n",
              " 530.7806,\n",
              " 530.73004,\n",
              " 530.68036,\n",
              " 530.6319,\n",
              " 530.5847,\n",
              " 530.53894,\n",
              " 530.49475,\n",
              " 530.4522,\n",
              " 530.41156,\n",
              " 530.3728,\n",
              " 530.3359,\n",
              " 530.3011,\n",
              " 530.2684,\n",
              " 530.2378,\n",
              " 530.20935,\n",
              " 530.1831,\n",
              " 530.159]"
            ]
          },
          "metadata": {
            "tags": []
          },
          "execution_count": 96
        }
      ]
    },
    {
      "cell_type": "code",
      "metadata": {
        "id": "wiX6MYQ3ilNw"
      },
      "source": [
        "start = [1433, 759, 2453, 540, 6175]"
      ],
      "execution_count": null,
      "outputs": []
    },
    {
      "cell_type": "code",
      "metadata": {
        "colab": {
          "base_uri": "https://localhost:8080/"
        },
        "id": "jZxt4XNoj0fM",
        "outputId": "c5ff9265-a4ba-44b4-ac02-e5d957fff547"
      },
      "source": [
        "def unboundedKnapsack(W, n, val, wt):\n",
        " \n",
        "    # dp[i] is going to store maximum\n",
        "    # value with knapsack capacity i.\n",
        "    dp = [0 for i in range(W + 1)]\n",
        " \n",
        "    ans = 0\n",
        " \n",
        "    # Fill dp[] using above recursive formula\n",
        "    for i in range(W + 1):\n",
        "        for j in range(n):\n",
        "            if (wt[j] <= i):\n",
        "                dp[i] = max(dp[i], dp[i - wt[j]] + val[j])\n",
        " \n",
        "    return dp[W]\n",
        " \n",
        "# Driver program\n",
        "W = 20000\n",
        "day = int(input(\"Enter days: \"))\n",
        " \n",
        "max_return =[]\n",
        "for days in range(1):\n",
        "  val = [(adani[days]-start[0]), (axis[days]-start[1]), (hul[days]-start[2]), (airtel[days]-start[3]), bajaj[days]-start[4]]\n",
        "  val"
      ],
      "execution_count": null,
      "outputs": [
        {
          "output_type": "stream",
          "text": [
            "Enter days: 5\n"
          ],
          "name": "stdout"
        }
      ]
    },
    {
      "cell_type": "code",
      "metadata": {
        "id": "es-EJhFeW_r5",
        "colab": {
          "base_uri": "https://localhost:8080/",
          "height": 178
        },
        "outputId": "d062b5b1-a781-4976-e28d-4c0372dd25d7"
      },
      "source": [
        "maxreturn=pd.DataFrame(max_return)\n",
        "maxreturn.to_csv(\"max_returns.csv\")"
      ],
      "execution_count": null,
      "outputs": [
        {
          "output_type": "error",
          "ename": "NameError",
          "evalue": "ignored",
          "traceback": [
            "\u001b[0;31m---------------------------------------------------------------------------\u001b[0m",
            "\u001b[0;31mNameError\u001b[0m                                 Traceback (most recent call last)",
            "\u001b[0;32m<ipython-input-2-e536b2b6750a>\u001b[0m in \u001b[0;36m<module>\u001b[0;34m()\u001b[0m\n\u001b[0;32m----> 1\u001b[0;31m \u001b[0mmaxreturn\u001b[0m\u001b[0;34m=\u001b[0m\u001b[0mpd\u001b[0m\u001b[0;34m.\u001b[0m\u001b[0mDataFrame\u001b[0m\u001b[0;34m(\u001b[0m\u001b[0mmax_return\u001b[0m\u001b[0;34m)\u001b[0m\u001b[0;34m\u001b[0m\u001b[0;34m\u001b[0m\u001b[0m\n\u001b[0m\u001b[1;32m      2\u001b[0m \u001b[0mmaxreturn\u001b[0m\u001b[0;34m.\u001b[0m\u001b[0mto_csv\u001b[0m\u001b[0;34m(\u001b[0m\u001b[0;34m\"max_returns.csv\"\u001b[0m\u001b[0;34m)\u001b[0m\u001b[0;34m\u001b[0m\u001b[0;34m\u001b[0m\u001b[0m\n",
            "\u001b[0;31mNameError\u001b[0m: name 'pd' is not defined"
          ]
        }
      ]
    },
    {
      "cell_type": "code",
      "metadata": {
        "colab": {
          "base_uri": "https://localhost:8080/",
          "height": 17
        },
        "id": "DfITeQ9fXH5r",
        "outputId": "14a05c45-ee55-49a3-a470-a5bc1fcb9780"
      },
      "source": [
        "from google.colab import files\n",
        "files.download('max_returns.csv')"
      ],
      "execution_count": null,
      "outputs": [
        {
          "output_type": "display_data",
          "data": {
            "application/javascript": [
              "\n",
              "    async function download(id, filename, size) {\n",
              "      if (!google.colab.kernel.accessAllowed) {\n",
              "        return;\n",
              "      }\n",
              "      const div = document.createElement('div');\n",
              "      const label = document.createElement('label');\n",
              "      label.textContent = `Downloading \"${filename}\": `;\n",
              "      div.appendChild(label);\n",
              "      const progress = document.createElement('progress');\n",
              "      progress.max = size;\n",
              "      div.appendChild(progress);\n",
              "      document.body.appendChild(div);\n",
              "\n",
              "      const buffers = [];\n",
              "      let downloaded = 0;\n",
              "\n",
              "      const channel = await google.colab.kernel.comms.open(id);\n",
              "      // Send a message to notify the kernel that we're ready.\n",
              "      channel.send({})\n",
              "\n",
              "      for await (const message of channel.messages) {\n",
              "        // Send a message to notify the kernel that we're ready.\n",
              "        channel.send({})\n",
              "        if (message.buffers) {\n",
              "          for (const buffer of message.buffers) {\n",
              "            buffers.push(buffer);\n",
              "            downloaded += buffer.byteLength;\n",
              "            progress.value = downloaded;\n",
              "          }\n",
              "        }\n",
              "      }\n",
              "      const blob = new Blob(buffers, {type: 'application/binary'});\n",
              "      const a = document.createElement('a');\n",
              "      a.href = window.URL.createObjectURL(blob);\n",
              "      a.download = filename;\n",
              "      div.appendChild(a);\n",
              "      a.click();\n",
              "      div.remove();\n",
              "    }\n",
              "  "
            ],
            "text/plain": [
              "<IPython.core.display.Javascript object>"
            ]
          },
          "metadata": {
            "tags": []
          }
        },
        {
          "output_type": "display_data",
          "data": {
            "application/javascript": [
              "download(\"download_dcd3c71f-0831-4e0c-a8a9-b30f5ae5b7bd\", \"max_returns.csv\", 1787)"
            ],
            "text/plain": [
              "<IPython.core.display.Javascript object>"
            ]
          },
          "metadata": {
            "tags": []
          }
        }
      ]
    }
  ]
}